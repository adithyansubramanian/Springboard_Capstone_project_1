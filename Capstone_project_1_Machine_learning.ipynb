{
 "cells": [
  {
   "cell_type": "code",
   "execution_count": 1,
   "metadata": {},
   "outputs": [],
   "source": [
    "import pandas as pd\n",
    "import numpy as np\n",
    "import matplotlib.pyplot as plt\n",
    "import scipy.stats as stats\n",
    "import matplotlib.pyplot as plt\n",
    "import sklearn\n",
    "\n",
    "import seaborn as sns"
   ]
  },
  {
   "cell_type": "code",
   "execution_count": 3,
   "metadata": {},
   "outputs": [],
   "source": [
    "health = pd.read_csv('health_for_modeling.csv')"
   ]
  },
  {
   "cell_type": "code",
   "execution_count": 4,
   "metadata": {},
   "outputs": [
    {
     "data": {
      "text/html": [
       "<div>\n",
       "<style scoped>\n",
       "    .dataframe tbody tr th:only-of-type {\n",
       "        vertical-align: middle;\n",
       "    }\n",
       "\n",
       "    .dataframe tbody tr th {\n",
       "        vertical-align: top;\n",
       "    }\n",
       "\n",
       "    .dataframe thead th {\n",
       "        text-align: right;\n",
       "    }\n",
       "</style>\n",
       "<table border=\"1\" class=\"dataframe\">\n",
       "  <thead>\n",
       "    <tr style=\"text-align: right;\">\n",
       "      <th></th>\n",
       "      <th>Unnamed: 0</th>\n",
       "      <th>Unnamed: 0.1</th>\n",
       "      <th>Community Area</th>\n",
       "      <th>Community Area Name</th>\n",
       "      <th>Birth Rate</th>\n",
       "      <th>General Fertility Rate</th>\n",
       "      <th>Low Birth Weight</th>\n",
       "      <th>Prenatal Care Beginning in First Trimester</th>\n",
       "      <th>Preterm Births</th>\n",
       "      <th>Teen Birth Rate</th>\n",
       "      <th>...</th>\n",
       "      <th>Below Poverty Level</th>\n",
       "      <th>Crowded Housing</th>\n",
       "      <th>Dependency</th>\n",
       "      <th>No High School Diploma</th>\n",
       "      <th>Per Capita Income</th>\n",
       "      <th>Unemployment</th>\n",
       "      <th>PRI_NEIGH</th>\n",
       "      <th>tobacco</th>\n",
       "      <th>Childcare</th>\n",
       "      <th>Liquor Sellers</th>\n",
       "    </tr>\n",
       "  </thead>\n",
       "  <tbody>\n",
       "    <tr>\n",
       "      <th>0</th>\n",
       "      <td>0</td>\n",
       "      <td>0</td>\n",
       "      <td>1</td>\n",
       "      <td>Rogers Park</td>\n",
       "      <td>16.4</td>\n",
       "      <td>62.0</td>\n",
       "      <td>11.0</td>\n",
       "      <td>73.0</td>\n",
       "      <td>11.2</td>\n",
       "      <td>40.8</td>\n",
       "      <td>...</td>\n",
       "      <td>22.7</td>\n",
       "      <td>7.9</td>\n",
       "      <td>28.8</td>\n",
       "      <td>18.1</td>\n",
       "      <td>23714</td>\n",
       "      <td>7.5</td>\n",
       "      <td>Rogers Park</td>\n",
       "      <td>816</td>\n",
       "      <td>61</td>\n",
       "      <td>826</td>\n",
       "    </tr>\n",
       "    <tr>\n",
       "      <th>1</th>\n",
       "      <td>1</td>\n",
       "      <td>1</td>\n",
       "      <td>2</td>\n",
       "      <td>West Ridge</td>\n",
       "      <td>17.3</td>\n",
       "      <td>83.3</td>\n",
       "      <td>8.1</td>\n",
       "      <td>71.1</td>\n",
       "      <td>8.3</td>\n",
       "      <td>29.9</td>\n",
       "      <td>...</td>\n",
       "      <td>15.1</td>\n",
       "      <td>7.0</td>\n",
       "      <td>38.3</td>\n",
       "      <td>19.6</td>\n",
       "      <td>21375</td>\n",
       "      <td>7.9</td>\n",
       "      <td>West Ridge</td>\n",
       "      <td>948</td>\n",
       "      <td>137</td>\n",
       "      <td>1022</td>\n",
       "    </tr>\n",
       "    <tr>\n",
       "      <th>2</th>\n",
       "      <td>2</td>\n",
       "      <td>2</td>\n",
       "      <td>3</td>\n",
       "      <td>Uptown</td>\n",
       "      <td>13.1</td>\n",
       "      <td>50.5</td>\n",
       "      <td>8.3</td>\n",
       "      <td>77.7</td>\n",
       "      <td>10.3</td>\n",
       "      <td>35.1</td>\n",
       "      <td>...</td>\n",
       "      <td>22.7</td>\n",
       "      <td>4.6</td>\n",
       "      <td>22.2</td>\n",
       "      <td>13.6</td>\n",
       "      <td>32355</td>\n",
       "      <td>7.7</td>\n",
       "      <td>Uptown</td>\n",
       "      <td>879</td>\n",
       "      <td>90</td>\n",
       "      <td>999</td>\n",
       "    </tr>\n",
       "    <tr>\n",
       "      <th>3</th>\n",
       "      <td>3</td>\n",
       "      <td>3</td>\n",
       "      <td>4</td>\n",
       "      <td>Lincoln Square</td>\n",
       "      <td>17.1</td>\n",
       "      <td>61.0</td>\n",
       "      <td>8.1</td>\n",
       "      <td>80.5</td>\n",
       "      <td>9.7</td>\n",
       "      <td>38.4</td>\n",
       "      <td>...</td>\n",
       "      <td>9.5</td>\n",
       "      <td>3.1</td>\n",
       "      <td>25.6</td>\n",
       "      <td>12.5</td>\n",
       "      <td>35503</td>\n",
       "      <td>6.8</td>\n",
       "      <td>Lincoln Square</td>\n",
       "      <td>609</td>\n",
       "      <td>72</td>\n",
       "      <td>1444</td>\n",
       "    </tr>\n",
       "    <tr>\n",
       "      <th>4</th>\n",
       "      <td>4</td>\n",
       "      <td>4</td>\n",
       "      <td>5</td>\n",
       "      <td>North Center</td>\n",
       "      <td>22.4</td>\n",
       "      <td>76.2</td>\n",
       "      <td>9.1</td>\n",
       "      <td>80.4</td>\n",
       "      <td>9.8</td>\n",
       "      <td>8.4</td>\n",
       "      <td>...</td>\n",
       "      <td>7.1</td>\n",
       "      <td>0.2</td>\n",
       "      <td>25.5</td>\n",
       "      <td>5.4</td>\n",
       "      <td>51615</td>\n",
       "      <td>4.5</td>\n",
       "      <td>North Center</td>\n",
       "      <td>524</td>\n",
       "      <td>108</td>\n",
       "      <td>1528</td>\n",
       "    </tr>\n",
       "  </tbody>\n",
       "</table>\n",
       "<p>5 rows × 35 columns</p>\n",
       "</div>"
      ],
      "text/plain": [
       "   Unnamed: 0  Unnamed: 0.1  Community Area Community Area Name  Birth Rate  \\\n",
       "0           0             0               1         Rogers Park        16.4   \n",
       "1           1             1               2          West Ridge        17.3   \n",
       "2           2             2               3              Uptown        13.1   \n",
       "3           3             3               4      Lincoln Square        17.1   \n",
       "4           4             4               5        North Center        22.4   \n",
       "\n",
       "   General Fertility Rate  Low Birth Weight  \\\n",
       "0                    62.0              11.0   \n",
       "1                    83.3               8.1   \n",
       "2                    50.5               8.3   \n",
       "3                    61.0               8.1   \n",
       "4                    76.2               9.1   \n",
       "\n",
       "   Prenatal Care Beginning in First Trimester  Preterm Births  \\\n",
       "0                                        73.0            11.2   \n",
       "1                                        71.1             8.3   \n",
       "2                                        77.7            10.3   \n",
       "3                                        80.5             9.7   \n",
       "4                                        80.4             9.8   \n",
       "\n",
       "   Teen Birth Rate  ...  Below Poverty Level  Crowded Housing  Dependency  \\\n",
       "0             40.8  ...                 22.7              7.9        28.8   \n",
       "1             29.9  ...                 15.1              7.0        38.3   \n",
       "2             35.1  ...                 22.7              4.6        22.2   \n",
       "3             38.4  ...                  9.5              3.1        25.6   \n",
       "4              8.4  ...                  7.1              0.2        25.5   \n",
       "\n",
       "   No High School Diploma  Per Capita Income  Unemployment       PRI_NEIGH  \\\n",
       "0                    18.1              23714           7.5     Rogers Park   \n",
       "1                    19.6              21375           7.9      West Ridge   \n",
       "2                    13.6              32355           7.7          Uptown   \n",
       "3                    12.5              35503           6.8  Lincoln Square   \n",
       "4                     5.4              51615           4.5    North Center   \n",
       "\n",
       "   tobacco  Childcare  Liquor Sellers  \n",
       "0      816         61             826  \n",
       "1      948        137            1022  \n",
       "2      879         90             999  \n",
       "3      609         72            1444  \n",
       "4      524        108            1528  \n",
       "\n",
       "[5 rows x 35 columns]"
      ]
     },
     "execution_count": 4,
     "metadata": {},
     "output_type": "execute_result"
    }
   ],
   "source": [
    "health.head()"
   ]
  },
  {
   "cell_type": "code",
   "execution_count": 5,
   "metadata": {},
   "outputs": [
    {
     "data": {
      "text/plain": [
       "Index(['Unnamed: 0', 'Unnamed: 0.1', 'Community Area', 'Community Area Name',\n",
       "       'Birth Rate', 'General Fertility Rate', 'Low Birth Weight',\n",
       "       'Prenatal Care Beginning in First Trimester', 'Preterm Births',\n",
       "       'Teen Birth Rate', 'Assault (Homicide)', 'Breast cancer in females',\n",
       "       'Cancer (All Sites)', 'Colorectal Cancer', 'Diabetes-related',\n",
       "       'Firearm-related', 'Infant Mortality Rate', 'Lung Cancer',\n",
       "       'Prostate Cancer in Males', 'Stroke (Cerebrovascular Disease)',\n",
       "       'Childhood Blood Lead Level Screening', 'Childhood Lead Poisoning',\n",
       "       'Gonorrhea in Females', 'Gonorrhea in Males', 'Tuberculosis',\n",
       "       'Below Poverty Level', 'Crowded Housing', 'Dependency',\n",
       "       'No High School Diploma', 'Per Capita Income', 'Unemployment',\n",
       "       'PRI_NEIGH', 'tobacco', 'Childcare', 'Liquor Sellers'],\n",
       "      dtype='object')"
      ]
     },
     "execution_count": 5,
     "metadata": {},
     "output_type": "execute_result"
    }
   ],
   "source": [
    "health.columns"
   ]
  },
  {
   "cell_type": "code",
   "execution_count": 21,
   "metadata": {},
   "outputs": [],
   "source": [
    "cols = ['Unnamed: 0', 'Unnamed: 0.1', 'Community Area', 'Community Area Name',\n",
    "       'Birth Rate', 'General Fertility Rate', 'Low Birth Weight',\n",
    "       'Prenatal Care Beginning in First Trimester', 'Preterm Births',\n",
    "       'Teen Birth Rate', 'Assault (Homicide)', 'Breast cancer in females',\n",
    "       'Cancer (All Sites)', 'Colorectal Cancer', 'Diabetes-related',\n",
    "       'Firearm-related', 'Infant Mortality Rate', 'Lung Cancer',\n",
    "       'Prostate Cancer in Males', 'Stroke (Cerebrovascular Disease)',\n",
    "       'Childhood Blood Lead Level Screening', 'Childhood Lead Poisoning',\n",
    "       'Gonorrhea in Females', 'Gonorrhea in Males', 'Tuberculosis',\n",
    "       'Below Poverty Level', 'Crowded Housing', 'Dependency',\n",
    "       'No High School Diploma', 'Per Capita Income', 'Unemployment',\n",
    "       'PRI_NEIGH', 'tobacco', 'Childcare', 'Liquor Sellers']"
   ]
  },
  {
   "cell_type": "code",
   "execution_count": 26,
   "metadata": {},
   "outputs": [],
   "source": [
    "col_names = []\n",
    "for i in cols:\n",
    "    j = i.replace(' ','_')\n",
    "    col_names.append(j)"
   ]
  },
  {
   "cell_type": "code",
   "execution_count": 27,
   "metadata": {},
   "outputs": [
    {
     "data": {
      "text/plain": [
       "['Unnamed:_0',\n",
       " 'Unnamed:_0.1',\n",
       " 'Community_Area',\n",
       " 'Community_Area_Name',\n",
       " 'Birth_Rate',\n",
       " 'General_Fertility_Rate',\n",
       " 'Low_Birth_Weight',\n",
       " 'Prenatal_Care_Beginning_in_First_Trimester',\n",
       " 'Preterm_Births',\n",
       " 'Teen_Birth_Rate',\n",
       " 'Assault_(Homicide)',\n",
       " 'Breast_cancer_in_females',\n",
       " 'Cancer_(All_Sites)',\n",
       " 'Colorectal_Cancer',\n",
       " 'Diabetes-related',\n",
       " 'Firearm-related',\n",
       " 'Infant_Mortality_Rate',\n",
       " 'Lung_Cancer',\n",
       " 'Prostate_Cancer_in_Males',\n",
       " 'Stroke_(Cerebrovascular_Disease)',\n",
       " 'Childhood_Blood_Lead_Level_Screening',\n",
       " 'Childhood_Lead_Poisoning',\n",
       " 'Gonorrhea_in_Females',\n",
       " 'Gonorrhea_in_Males',\n",
       " 'Tuberculosis',\n",
       " 'Below_Poverty_Level',\n",
       " 'Crowded_Housing',\n",
       " 'Dependency',\n",
       " 'No_High_School_Diploma',\n",
       " 'Per_Capita_Income',\n",
       " 'Unemployment',\n",
       " 'PRI_NEIGH',\n",
       " 'tobacco',\n",
       " 'Childcare',\n",
       " 'Liquor_Sellers']"
      ]
     },
     "execution_count": 27,
     "metadata": {},
     "output_type": "execute_result"
    }
   ],
   "source": [
    "col_names"
   ]
  },
  {
   "cell_type": "code",
   "execution_count": 28,
   "metadata": {},
   "outputs": [],
   "source": [
    "health.columns=col_names"
   ]
  },
  {
   "cell_type": "code",
   "execution_count": 32,
   "metadata": {},
   "outputs": [
    {
     "data": {
      "text/plain": [
       "Index(['Unnamed:_0', 'Unnamed:_0.1', 'Community_Area', 'Community_Area_Name',\n",
       "       'Birth_Rate', 'General_Fertility_Rate', 'Low_Birth_Weight',\n",
       "       'Prenatal_Care_Beginning_in_First_Trimester', 'Preterm_Births',\n",
       "       'Teen_Birth_Rate', 'Assault_(Homicide)', 'Breast_cancer_in_females',\n",
       "       'Cancer_(All_Sites)', 'Colorectal_Cancer', 'Diabetes-related',\n",
       "       'Firearm-related', 'Infant_Mortality_Rate', 'Lung_Cancer',\n",
       "       'Prostate_Cancer_in_Males', 'Stroke_(Cerebrovascular_Disease)',\n",
       "       'Childhood_Blood_Lead_Level_Screening', 'Childhood_Lead_Poisoning',\n",
       "       'Gonorrhea_in_Females', 'Gonorrhea_in_Males', 'Tuberculosis',\n",
       "       'Below_Poverty_Level', 'Crowded_Housing', 'Dependency',\n",
       "       'No_High_School_Diploma', 'Per_Capita_Income', 'Unemployment',\n",
       "       'PRI_NEIGH', 'tobacco', 'Childcare', 'Liquor_Sellers'],\n",
       "      dtype='object')"
      ]
     },
     "execution_count": 32,
     "metadata": {},
     "output_type": "execute_result"
    }
   ],
   "source": [
    "health.columns"
   ]
  },
  {
   "cell_type": "code",
   "execution_count": 30,
   "metadata": {},
   "outputs": [],
   "source": [
    "# Import regression modules\n",
    "import statsmodels.api as sm\n",
    "from statsmodels.formula.api import ols"
   ]
  },
  {
   "cell_type": "code",
   "execution_count": 44,
   "metadata": {},
   "outputs": [
    {
     "name": "stdout",
     "output_type": "stream",
     "text": [
      "                            OLS Regression Results                            \n",
      "==============================================================================\n",
      "Dep. Variable:            Lung_Cancer   R-squared:                       0.632\n",
      "Model:                            OLS   Adj. R-squared:                  0.586\n",
      "Method:                 Least Squares   F-statistic:                     13.76\n",
      "Date:                Fri, 27 Sep 2019   Prob (F-statistic):           3.31e-10\n",
      "Time:                        22:24:02   Log-Likelihood:                -235.45\n",
      "No. Observations:                  64   AIC:                             486.9\n",
      "Df Residuals:                      56   BIC:                             504.2\n",
      "Df Model:                           7                                         \n",
      "Covariance Type:            nonrobust                                         \n",
      "==========================================================================================\n",
      "                             coef    std err          t      P>|t|      [0.025      0.975]\n",
      "------------------------------------------------------------------------------------------\n",
      "Intercept                 38.9335     19.715      1.975      0.053      -0.561      78.428\n",
      "tobacco                    0.0001      0.006      0.023      0.982      -0.012       0.013\n",
      "No_High_School_Diploma    -0.0532      0.343     -0.155      0.877      -0.740       0.633\n",
      "Per_Capita_Income         -0.0003      0.000     -1.118      0.268      -0.001       0.000\n",
      "Liquor_Sellers            -0.0004      0.004     -0.099      0.922      -0.009       0.008\n",
      "Crowded_Housing           -2.4849      0.976     -2.545      0.014      -4.441      -0.529\n",
      "Below_Poverty_Level        0.6146      0.141      4.345      0.000       0.331       0.898\n",
      "Dependency                 0.6155      0.342      1.799      0.077      -0.070       1.301\n",
      "==============================================================================\n",
      "Omnibus:                        2.076   Durbin-Watson:                   1.824\n",
      "Prob(Omnibus):                  0.354   Jarque-Bera (JB):                1.385\n",
      "Skew:                           0.073   Prob(JB):                        0.500\n",
      "Kurtosis:                       2.294   Cond. No.                     4.37e+05\n",
      "==============================================================================\n",
      "\n",
      "Warnings:\n",
      "[1] Standard Errors assume that the covariance matrix of the errors is correctly specified.\n",
      "[2] The condition number is large, 4.37e+05. This might indicate that there are\n",
      "strong multicollinearity or other numerical problems.\n"
     ]
    }
   ],
   "source": [
    "m = ols('Lung_Cancer ~ tobacco +  No_High_School_Diploma + Per_Capita_Income + Liquor_Sellers + Crowded_Housing + Below_Poverty_Level + Dependency', health).fit()\n",
    "print(m.summary())"
   ]
  },
  {
   "cell_type": "code",
   "execution_count": 48,
   "metadata": {},
   "outputs": [
    {
     "name": "stdout",
     "output_type": "stream",
     "text": [
      "                              OLS Regression Results                             \n",
      "=================================================================================\n",
      "Dep. Variable:     Infant_Mortality_Rate   R-squared:                       0.634\n",
      "Model:                               OLS   Adj. R-squared:                  0.565\n",
      "Method:                    Least Squares   F-statistic:                     9.198\n",
      "Date:                   Sat, 28 Sep 2019   Prob (F-statistic):           1.36e-08\n",
      "Time:                           09:59:59   Log-Likelihood:                -152.22\n",
      "No. Observations:                     64   AIC:                             326.4\n",
      "Df Residuals:                         53   BIC:                             350.2\n",
      "Df Model:                             10                                         \n",
      "Covariance Type:               nonrobust                                         \n",
      "============================================================================================\n",
      "                               coef    std err          t      P>|t|      [0.025      0.975]\n",
      "--------------------------------------------------------------------------------------------\n",
      "Intercept                    6.9660      3.866      1.802      0.077      -0.788      14.720\n",
      "Childcare                   -0.0120      0.014     -0.886      0.379      -0.039       0.015\n",
      "No_High_School_Diploma      -0.0042      0.105     -0.040      0.968      -0.215       0.207\n",
      "Per_Capita_Income        -3.572e-05   6.74e-05     -0.530      0.599      -0.000    9.95e-05\n",
      "Crowded_Housing             -0.1713      0.278     -0.616      0.540      -0.729       0.386\n",
      "Below_Poverty_Level          0.0588      0.065      0.908      0.368      -0.071       0.189\n",
      "Low_Birth_Weight             0.0945      0.172      0.548      0.586      -0.251       0.440\n",
      "General_Fertility_Rate      -0.0105      0.048     -0.219      0.827      -0.107       0.086\n",
      "Childhood_Lead_Poisoning     1.5477      0.658      2.353      0.022       0.228       2.867\n",
      "Gonorrhea_in_Females         0.0022      0.001      2.426      0.019       0.000       0.004\n",
      "Liquor_Sellers              -0.0006      0.001     -0.746      0.459      -0.002       0.001\n",
      "==============================================================================\n",
      "Omnibus:                        1.320   Durbin-Watson:                   1.835\n",
      "Prob(Omnibus):                  0.517   Jarque-Bera (JB):                0.661\n",
      "Skew:                           0.135   Prob(JB):                        0.719\n",
      "Kurtosis:                       3.419   Cond. No.                     3.06e+05\n",
      "==============================================================================\n",
      "\n",
      "Warnings:\n",
      "[1] Standard Errors assume that the covariance matrix of the errors is correctly specified.\n",
      "[2] The condition number is large, 3.06e+05. This might indicate that there are\n",
      "strong multicollinearity or other numerical problems.\n"
     ]
    }
   ],
   "source": [
    "m1 = ols('Infant_Mortality_Rate ~ Childcare +  No_High_School_Diploma + Per_Capita_Income + Crowded_Housing + Below_Poverty_Level + Low_Birth_Weight + General_Fertility_Rate + Childhood_Lead_Poisoning + Gonorrhea_in_Females + Liquor_Sellers', health).fit()\n",
    "print(m1.summary())"
   ]
  },
  {
   "cell_type": "code",
   "execution_count": null,
   "metadata": {},
   "outputs": [],
   "source": [
    "#use scikit learn to make decision \n",
    "#use base parameters\n",
    "#if not huge inprovement try random forest\n",
    "#use train test sploit"
   ]
  },
  {
   "cell_type": "code",
   "execution_count": 92,
   "metadata": {},
   "outputs": [
    {
     "data": {
      "text/plain": [
       "Index(['tobacco', 'No_High_School_Diploma', 'Per_Capita_Income',\n",
       "       'Liquor_Sellers', 'Crowded_Housing', 'Below_Poverty_Level',\n",
       "       'Dependency'],\n",
       "      dtype='object')"
      ]
     },
     "execution_count": 92,
     "metadata": {},
     "output_type": "execute_result"
    }
   ],
   "source": [
    "#create train test split\n",
    "from sklearn.model_selection import train_test_split\n",
    "LX = health[['tobacco', 'No_High_School_Diploma', 'Per_Capita_Income', 'Liquor_Sellers', 'Crowded_Housing',\n",
    "            'Below_Poverty_Level', 'Dependency']]\n",
    "#LX.drop(columns=['Lung_Cancer','Unnamed:_0', 'Unnamed:_0.1', 'Community_Area', 'Community_Area_Name', 'PRI_NEIGH'])\n",
    "Ly = health['Lung_Cancer']\n",
    "LX.columns\n"
   ]
  },
  {
   "cell_type": "code",
   "execution_count": 93,
   "metadata": {},
   "outputs": [],
   "source": [
    "LX_train, LX_test, Ly_train, Ly_test = train_test_split(\n",
    "    LX, Ly, test_size=0.2, random_state=42)\n"
   ]
  },
  {
   "cell_type": "code",
   "execution_count": 110,
   "metadata": {},
   "outputs": [],
   "source": [
    "IX = health[['Childcare', 'No_High_School_Diploma', 'Per_Capita_Income', 'Crowded_Housing', 'Below_Poverty_Level',\n",
    "             'Low_Birth_Weight', 'General_Fertility_Rate', \n",
    "             'Liquor_Sellers']]\n",
    "#IX.drop(['Infant_Mortality_Rate', 'Unnamed:_0', 'Unnamed:_0.1', 'Community_Area', 'Community_Area_Name', 'PRI_NEIGH'], axis=1)\n",
    "Iy = health['Infant_Mortality_Rate']"
   ]
  },
  {
   "cell_type": "code",
   "execution_count": 111,
   "metadata": {},
   "outputs": [],
   "source": [
    "IX_train, IX_test, Iy_train, Iy_test = train_test_split(\n",
    "    IX, Iy, test_size=0.2, random_state=42)\n"
   ]
  },
  {
   "cell_type": "code",
   "execution_count": 107,
   "metadata": {},
   "outputs": [
    {
     "data": {
      "text/html": [
       "<div>\n",
       "<style scoped>\n",
       "    .dataframe tbody tr th:only-of-type {\n",
       "        vertical-align: middle;\n",
       "    }\n",
       "\n",
       "    .dataframe tbody tr th {\n",
       "        vertical-align: top;\n",
       "    }\n",
       "\n",
       "    .dataframe thead th {\n",
       "        text-align: right;\n",
       "    }\n",
       "</style>\n",
       "<table border=\"1\" class=\"dataframe\">\n",
       "  <thead>\n",
       "    <tr style=\"text-align: right;\">\n",
       "      <th></th>\n",
       "      <th>Childcare</th>\n",
       "      <th>No_High_School_Diploma</th>\n",
       "      <th>Per_Capita_Income</th>\n",
       "      <th>Crowded_Housing</th>\n",
       "      <th>Below_Poverty_Level</th>\n",
       "      <th>Low_Birth_Weight</th>\n",
       "      <th>General_Fertility_Rate</th>\n",
       "      <th>Childhood_Lead_Poisoning</th>\n",
       "      <th>Gonorrhea_in_Females</th>\n",
       "      <th>Liquor_Sellers</th>\n",
       "    </tr>\n",
       "  </thead>\n",
       "  <tbody>\n",
       "    <tr>\n",
       "      <th>13</th>\n",
       "      <td>77</td>\n",
       "      <td>22.0</td>\n",
       "      <td>26713</td>\n",
       "      <td>5.6</td>\n",
       "      <td>10.8</td>\n",
       "      <td>7.7</td>\n",
       "      <td>67.1</td>\n",
       "      <td>0.6</td>\n",
       "      <td>159.6</td>\n",
       "      <td>1235</td>\n",
       "    </tr>\n",
       "    <tr>\n",
       "      <th>34</th>\n",
       "      <td>77</td>\n",
       "      <td>14.9</td>\n",
       "      <td>18366</td>\n",
       "      <td>2.9</td>\n",
       "      <td>31.5</td>\n",
       "      <td>13.8</td>\n",
       "      <td>67.9</td>\n",
       "      <td>1.1</td>\n",
       "      <td>1718.6</td>\n",
       "      <td>333</td>\n",
       "    </tr>\n",
       "    <tr>\n",
       "      <th>50</th>\n",
       "      <td>38</td>\n",
       "      <td>42.4</td>\n",
       "      <td>12524</td>\n",
       "      <td>12.2</td>\n",
       "      <td>30.6</td>\n",
       "      <td>11.8</td>\n",
       "      <td>93.4</td>\n",
       "      <td>0.8</td>\n",
       "      <td>1052.6</td>\n",
       "      <td>736</td>\n",
       "    </tr>\n",
       "    <tr>\n",
       "      <th>3</th>\n",
       "      <td>72</td>\n",
       "      <td>12.5</td>\n",
       "      <td>35503</td>\n",
       "      <td>3.1</td>\n",
       "      <td>9.5</td>\n",
       "      <td>8.1</td>\n",
       "      <td>61.0</td>\n",
       "      <td>0.4</td>\n",
       "      <td>98.8</td>\n",
       "      <td>1444</td>\n",
       "    </tr>\n",
       "    <tr>\n",
       "      <th>17</th>\n",
       "      <td>31</td>\n",
       "      <td>25.7</td>\n",
       "      <td>20489</td>\n",
       "      <td>5.8</td>\n",
       "      <td>14.6</td>\n",
       "      <td>7.3</td>\n",
       "      <td>77.7</td>\n",
       "      <td>0.7</td>\n",
       "      <td>85.3</td>\n",
       "      <td>1031</td>\n",
       "    </tr>\n",
       "  </tbody>\n",
       "</table>\n",
       "</div>"
      ],
      "text/plain": [
       "    Childcare  No_High_School_Diploma  Per_Capita_Income  Crowded_Housing  \\\n",
       "13         77                    22.0              26713              5.6   \n",
       "34         77                    14.9              18366              2.9   \n",
       "50         38                    42.4              12524             12.2   \n",
       "3          72                    12.5              35503              3.1   \n",
       "17         31                    25.7              20489              5.8   \n",
       "\n",
       "    Below_Poverty_Level  Low_Birth_Weight  General_Fertility_Rate  \\\n",
       "13                 10.8               7.7                    67.1   \n",
       "34                 31.5              13.8                    67.9   \n",
       "50                 30.6              11.8                    93.4   \n",
       "3                   9.5               8.1                    61.0   \n",
       "17                 14.6               7.3                    77.7   \n",
       "\n",
       "    Childhood_Lead_Poisoning  Gonorrhea_in_Females  Liquor_Sellers  \n",
       "13                       0.6                 159.6            1235  \n",
       "34                       1.1                1718.6             333  \n",
       "50                       0.8                1052.6             736  \n",
       "3                        0.4                  98.8            1444  \n",
       "17                       0.7                  85.3            1031  "
      ]
     },
     "execution_count": 107,
     "metadata": {},
     "output_type": "execute_result"
    }
   ],
   "source": [
    "IX_train.head()"
   ]
  },
  {
   "cell_type": "code",
   "execution_count": 98,
   "metadata": {},
   "outputs": [],
   "source": [
    "from sklearn.tree import DecisionTreeRegressor\n",
    "clf = DecisionTreeRegressor()\n",
    "\n",
    "clf = clf.fit(LX_train, Ly_train)\n",
    "Ly_pred = clf.predict(LX_test)\n"
   ]
  },
  {
   "cell_type": "code",
   "execution_count": 101,
   "metadata": {},
   "outputs": [
    {
     "name": "stdout",
     "output_type": "stream",
     "text": [
      "Accuracy: 0.7306159671362198\n"
     ]
    }
   ],
   "source": [
    "from sklearn import metrics\n",
    "print(\"Accuracy:\",clf.score(LX_test, Ly_test))"
   ]
  },
  {
   "cell_type": "code",
   "execution_count": 112,
   "metadata": {},
   "outputs": [],
   "source": [
    "#for infant mortality\n",
    "clf = DecisionTreeRegressor()\n",
    "\n",
    "clf = clf.fit(IX_train, Iy_train)\n",
    "Ly_pred = clf.predict(IX_test)"
   ]
  },
  {
   "cell_type": "code",
   "execution_count": 113,
   "metadata": {},
   "outputs": [
    {
     "name": "stdout",
     "output_type": "stream",
     "text": [
      "Accuracy: 0.39866909934374284\n"
     ]
    }
   ],
   "source": [
    "print(\"Accuracy:\",clf.score(IX_test, Iy_test))"
   ]
  },
  {
   "cell_type": "code",
   "execution_count": 114,
   "metadata": {},
   "outputs": [
    {
     "name": "stderr",
     "output_type": "stream",
     "text": [
      "/anaconda3/lib/python3.7/site-packages/sklearn/ensemble/forest.py:246: FutureWarning: The default value of n_estimators will change from 10 in version 0.20 to 100 in 0.22.\n",
      "  \"10 in version 0.20 to 100 in 0.22.\", FutureWarning)\n"
     ]
    }
   ],
   "source": [
    "from sklearn.ensemble import RandomForestRegressor\n",
    "clf = RandomForestRegressor()\n",
    "\n",
    "clf = clf.fit(IX_train, Iy_train)\n",
    "Ly_pred = clf.predict(IX_test)"
   ]
  },
  {
   "cell_type": "code",
   "execution_count": 115,
   "metadata": {},
   "outputs": [
    {
     "name": "stdout",
     "output_type": "stream",
     "text": [
      "Accuracy: 0.35505996831862374\n"
     ]
    }
   ],
   "source": [
    "print(\"Accuracy:\",clf.score(IX_test, Iy_test))"
   ]
  },
  {
   "cell_type": "code",
   "execution_count": 116,
   "metadata": {},
   "outputs": [
    {
     "name": "stderr",
     "output_type": "stream",
     "text": [
      "/anaconda3/lib/python3.7/site-packages/sklearn/ensemble/forest.py:246: FutureWarning: The default value of n_estimators will change from 10 in version 0.20 to 100 in 0.22.\n",
      "  \"10 in version 0.20 to 100 in 0.22.\", FutureWarning)\n"
     ]
    }
   ],
   "source": [
    "clf = RandomForestRegressor()\n",
    "\n",
    "clf = clf.fit(LX_train, Ly_train)\n",
    "Ly_pred = clf.predict(LX_test)"
   ]
  },
  {
   "cell_type": "code",
   "execution_count": 117,
   "metadata": {},
   "outputs": [
    {
     "name": "stdout",
     "output_type": "stream",
     "text": [
      "Accuracy: 0.5902022130306019\n"
     ]
    }
   ],
   "source": [
    "print(\"Accuracy:\",clf.score(LX_test, Ly_test))"
   ]
  },
  {
   "cell_type": "code",
   "execution_count": null,
   "metadata": {},
   "outputs": [],
   "source": []
  }
 ],
 "metadata": {
  "kernelspec": {
   "display_name": "Python 3",
   "language": "python",
   "name": "python3"
  },
  "language_info": {
   "codemirror_mode": {
    "name": "ipython",
    "version": 3
   },
   "file_extension": ".py",
   "mimetype": "text/x-python",
   "name": "python",
   "nbconvert_exporter": "python",
   "pygments_lexer": "ipython3",
   "version": "3.7.3"
  }
 },
 "nbformat": 4,
 "nbformat_minor": 2
}
