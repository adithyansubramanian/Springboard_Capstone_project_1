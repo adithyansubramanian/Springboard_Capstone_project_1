{
 "cells": [
  {
   "cell_type": "code",
   "execution_count": 544,
   "metadata": {},
   "outputs": [],
   "source": [
    "import pandas as pd\n",
    "import numpy as np\n",
    "import matplotlib.pyplot as plt\n",
    "import json \n",
    "from pandas.io.json import json_normalize"
   ]
  },
  {
   "cell_type": "code",
   "execution_count": 545,
   "metadata": {},
   "outputs": [],
   "source": [
    "businesses = pd.read_csv('Business_Licenses.csv')"
   ]
  },
  {
   "cell_type": "code",
   "execution_count": 546,
   "metadata": {},
   "outputs": [
    {
     "data": {
      "text/html": [
       "<div>\n",
       "<style scoped>\n",
       "    .dataframe tbody tr th:only-of-type {\n",
       "        vertical-align: middle;\n",
       "    }\n",
       "\n",
       "    .dataframe tbody tr th {\n",
       "        vertical-align: top;\n",
       "    }\n",
       "\n",
       "    .dataframe thead th {\n",
       "        text-align: right;\n",
       "    }\n",
       "</style>\n",
       "<table border=\"1\" class=\"dataframe\">\n",
       "  <thead>\n",
       "    <tr style=\"text-align: right;\">\n",
       "      <th></th>\n",
       "      <th>ID</th>\n",
       "      <th>LICENSE ID</th>\n",
       "      <th>ACCOUNT NUMBER</th>\n",
       "      <th>SITE NUMBER</th>\n",
       "      <th>LEGAL NAME</th>\n",
       "      <th>DOING BUSINESS AS NAME</th>\n",
       "      <th>ADDRESS</th>\n",
       "      <th>CITY</th>\n",
       "      <th>STATE</th>\n",
       "      <th>ZIP CODE</th>\n",
       "      <th>...</th>\n",
       "      <th>LICENSE TERM START DATE</th>\n",
       "      <th>LICENSE TERM EXPIRATION DATE</th>\n",
       "      <th>LICENSE APPROVED FOR ISSUANCE</th>\n",
       "      <th>DATE ISSUED</th>\n",
       "      <th>LICENSE STATUS</th>\n",
       "      <th>LICENSE STATUS CHANGE DATE</th>\n",
       "      <th>SSA</th>\n",
       "      <th>LATITUDE</th>\n",
       "      <th>LONGITUDE</th>\n",
       "      <th>LOCATION</th>\n",
       "    </tr>\n",
       "  </thead>\n",
       "  <tbody>\n",
       "    <tr>\n",
       "      <th>0</th>\n",
       "      <td>22308-20060816</td>\n",
       "      <td>1723393</td>\n",
       "      <td>29481</td>\n",
       "      <td>1</td>\n",
       "      <td>BELL OIL TERMINAL INC</td>\n",
       "      <td>Bell Oil Terminal LLC</td>\n",
       "      <td>3741 S PULASKI RD  1</td>\n",
       "      <td>CHICAGO</td>\n",
       "      <td>IL</td>\n",
       "      <td>60623</td>\n",
       "      <td>...</td>\n",
       "      <td>08/16/2006</td>\n",
       "      <td>08/15/2007</td>\n",
       "      <td>08/10/2006</td>\n",
       "      <td>08/11/2006</td>\n",
       "      <td>AAI</td>\n",
       "      <td>NaN</td>\n",
       "      <td>NaN</td>\n",
       "      <td>41.825320</td>\n",
       "      <td>-87.723960</td>\n",
       "      <td>(41.82531992987547, -87.72395999659746)</td>\n",
       "    </tr>\n",
       "    <tr>\n",
       "      <th>1</th>\n",
       "      <td>1620668-20160516</td>\n",
       "      <td>2455262</td>\n",
       "      <td>295026</td>\n",
       "      <td>1</td>\n",
       "      <td>BUCCI BIG &amp; TALL INC.</td>\n",
       "      <td>BUCCI BIG &amp; TALL INC.</td>\n",
       "      <td>558 W ROOSEVELT RD</td>\n",
       "      <td>CHICAGO</td>\n",
       "      <td>IL</td>\n",
       "      <td>60607</td>\n",
       "      <td>...</td>\n",
       "      <td>05/16/2016</td>\n",
       "      <td>05/15/2018</td>\n",
       "      <td>05/18/2016</td>\n",
       "      <td>08/30/2016</td>\n",
       "      <td>AAI</td>\n",
       "      <td>NaN</td>\n",
       "      <td>NaN</td>\n",
       "      <td>41.867339</td>\n",
       "      <td>-87.641590</td>\n",
       "      <td>(41.86733856638269, -87.64159005699716)</td>\n",
       "    </tr>\n",
       "    <tr>\n",
       "      <th>2</th>\n",
       "      <td>2368602-20160616</td>\n",
       "      <td>2460909</td>\n",
       "      <td>291461</td>\n",
       "      <td>3</td>\n",
       "      <td>PROJECT: VISION , INC.</td>\n",
       "      <td>PROJECT : VISION , INC</td>\n",
       "      <td>2301 S ARCHER AVE 1 1</td>\n",
       "      <td>CHICAGO</td>\n",
       "      <td>IL</td>\n",
       "      <td>60616</td>\n",
       "      <td>...</td>\n",
       "      <td>06/16/2016</td>\n",
       "      <td>06/15/2017</td>\n",
       "      <td>06/21/2016</td>\n",
       "      <td>06/22/2016</td>\n",
       "      <td>AAC</td>\n",
       "      <td>08/30/2016</td>\n",
       "      <td>NaN</td>\n",
       "      <td>41.850843</td>\n",
       "      <td>-87.638734</td>\n",
       "      <td>(41.85084294374687, -87.63873424399071)</td>\n",
       "    </tr>\n",
       "    <tr>\n",
       "      <th>3</th>\n",
       "      <td>2060891-20141016</td>\n",
       "      <td>2353257</td>\n",
       "      <td>357247</td>\n",
       "      <td>1</td>\n",
       "      <td>FOLASHADE'S CLEANING SERVICE INC.</td>\n",
       "      <td>FOLASHADE'S CLEANING SERVICE INC.</td>\n",
       "      <td>1965  BERNICE RD 1 1SW</td>\n",
       "      <td>LANSING</td>\n",
       "      <td>IL</td>\n",
       "      <td>60438</td>\n",
       "      <td>...</td>\n",
       "      <td>10/16/2014</td>\n",
       "      <td>10/15/2016</td>\n",
       "      <td>04/01/2016</td>\n",
       "      <td>04/01/2016</td>\n",
       "      <td>AAI</td>\n",
       "      <td>NaN</td>\n",
       "      <td>38.0</td>\n",
       "      <td>41.951316</td>\n",
       "      <td>-87.678586</td>\n",
       "      <td>(41.95131555606832, -87.67858578019546)</td>\n",
       "    </tr>\n",
       "    <tr>\n",
       "      <th>4</th>\n",
       "      <td>1144216-20070516</td>\n",
       "      <td>1804790</td>\n",
       "      <td>147</td>\n",
       "      <td>63</td>\n",
       "      <td>WALGREEN CO.</td>\n",
       "      <td>Walgreens # 05192</td>\n",
       "      <td>9148 S COMMERCIAL AVE 1ST</td>\n",
       "      <td>CHICAGO</td>\n",
       "      <td>IL</td>\n",
       "      <td>60617</td>\n",
       "      <td>...</td>\n",
       "      <td>05/16/2007</td>\n",
       "      <td>05/15/2008</td>\n",
       "      <td>05/10/2007</td>\n",
       "      <td>05/11/2007</td>\n",
       "      <td>AAI</td>\n",
       "      <td>NaN</td>\n",
       "      <td>5.0</td>\n",
       "      <td>41.728622</td>\n",
       "      <td>-87.551366</td>\n",
       "      <td>(41.72862173556932, -87.55136646594693)</td>\n",
       "    </tr>\n",
       "  </tbody>\n",
       "</table>\n",
       "<p>5 rows × 34 columns</p>\n",
       "</div>"
      ],
      "text/plain": [
       "                 ID  LICENSE ID  ACCOUNT NUMBER  SITE NUMBER  \\\n",
       "0    22308-20060816     1723393           29481            1   \n",
       "1  1620668-20160516     2455262          295026            1   \n",
       "2  2368602-20160616     2460909          291461            3   \n",
       "3  2060891-20141016     2353257          357247            1   \n",
       "4  1144216-20070516     1804790             147           63   \n",
       "\n",
       "                          LEGAL NAME             DOING BUSINESS AS NAME  \\\n",
       "0              BELL OIL TERMINAL INC              Bell Oil Terminal LLC   \n",
       "1              BUCCI BIG & TALL INC.              BUCCI BIG & TALL INC.   \n",
       "2             PROJECT: VISION , INC.             PROJECT : VISION , INC   \n",
       "3  FOLASHADE'S CLEANING SERVICE INC.  FOLASHADE'S CLEANING SERVICE INC.   \n",
       "4                       WALGREEN CO.                  Walgreens # 05192   \n",
       "\n",
       "                     ADDRESS     CITY STATE ZIP CODE  ...  \\\n",
       "0       3741 S PULASKI RD  1  CHICAGO    IL    60623  ...   \n",
       "1         558 W ROOSEVELT RD  CHICAGO    IL    60607  ...   \n",
       "2      2301 S ARCHER AVE 1 1  CHICAGO    IL    60616  ...   \n",
       "3     1965  BERNICE RD 1 1SW  LANSING    IL    60438  ...   \n",
       "4  9148 S COMMERCIAL AVE 1ST  CHICAGO    IL    60617  ...   \n",
       "\n",
       "   LICENSE TERM START DATE  LICENSE TERM EXPIRATION DATE  \\\n",
       "0               08/16/2006                    08/15/2007   \n",
       "1               05/16/2016                    05/15/2018   \n",
       "2               06/16/2016                    06/15/2017   \n",
       "3               10/16/2014                    10/15/2016   \n",
       "4               05/16/2007                    05/15/2008   \n",
       "\n",
       "  LICENSE APPROVED FOR ISSUANCE  DATE ISSUED  LICENSE STATUS  \\\n",
       "0                    08/10/2006   08/11/2006             AAI   \n",
       "1                    05/18/2016   08/30/2016             AAI   \n",
       "2                    06/21/2016   06/22/2016             AAC   \n",
       "3                    04/01/2016   04/01/2016             AAI   \n",
       "4                    05/10/2007   05/11/2007             AAI   \n",
       "\n",
       "  LICENSE STATUS CHANGE DATE   SSA   LATITUDE  LONGITUDE  \\\n",
       "0                        NaN   NaN  41.825320 -87.723960   \n",
       "1                        NaN   NaN  41.867339 -87.641590   \n",
       "2                 08/30/2016   NaN  41.850843 -87.638734   \n",
       "3                        NaN  38.0  41.951316 -87.678586   \n",
       "4                        NaN   5.0  41.728622 -87.551366   \n",
       "\n",
       "                                  LOCATION  \n",
       "0  (41.82531992987547, -87.72395999659746)  \n",
       "1  (41.86733856638269, -87.64159005699716)  \n",
       "2  (41.85084294374687, -87.63873424399071)  \n",
       "3  (41.95131555606832, -87.67858578019546)  \n",
       "4  (41.72862173556932, -87.55136646594693)  \n",
       "\n",
       "[5 rows x 34 columns]"
      ]
     },
     "execution_count": 546,
     "metadata": {},
     "output_type": "execute_result"
    }
   ],
   "source": [
    "businesses.head()"
   ]
  },
  {
   "cell_type": "code",
   "execution_count": 547,
   "metadata": {},
   "outputs": [],
   "source": [
    "# clean latitude and longitude columns\n",
    "\n",
    "#dropnans \n",
    "businesses = businesses[np.isfinite(businesses['LONGITUDE'])]\n",
    "businesses = businesses[np.isfinite(businesses['LATITUDE'])]"
   ]
  },
  {
   "cell_type": "code",
   "execution_count": 548,
   "metadata": {
    "scrolled": true
   },
   "outputs": [
    {
     "data": {
      "text/html": [
       "<div>\n",
       "<style scoped>\n",
       "    .dataframe tbody tr th:only-of-type {\n",
       "        vertical-align: middle;\n",
       "    }\n",
       "\n",
       "    .dataframe tbody tr th {\n",
       "        vertical-align: top;\n",
       "    }\n",
       "\n",
       "    .dataframe thead th {\n",
       "        text-align: right;\n",
       "    }\n",
       "</style>\n",
       "<table border=\"1\" class=\"dataframe\">\n",
       "  <thead>\n",
       "    <tr style=\"text-align: right;\">\n",
       "      <th></th>\n",
       "      <th>0</th>\n",
       "    </tr>\n",
       "  </thead>\n",
       "  <tbody>\n",
       "    <tr>\n",
       "      <th>Grand Boulevard</th>\n",
       "      <td>[[[-87.60670812560363, 41.81681377137387], [-8...</td>\n",
       "    </tr>\n",
       "    <tr>\n",
       "      <th>Printers Row</th>\n",
       "      <td>[[[-87.62760697485339, 41.87437097785366], [-8...</td>\n",
       "    </tr>\n",
       "    <tr>\n",
       "      <th>United Center</th>\n",
       "      <td>[[[-87.66706868914592, 41.88885187769542], [-8...</td>\n",
       "    </tr>\n",
       "    <tr>\n",
       "      <th>Sheffield &amp; DePaul</th>\n",
       "      <td>[[[-87.65833494805524, 41.921661442291786], [-...</td>\n",
       "    </tr>\n",
       "    <tr>\n",
       "      <th>Humboldt Park</th>\n",
       "      <td>[[[-87.74059567509258, 41.88782316893226], [-8...</td>\n",
       "    </tr>\n",
       "  </tbody>\n",
       "</table>\n",
       "</div>"
      ],
      "text/plain": [
       "                                                                    0\n",
       "Grand Boulevard     [[[-87.60670812560363, 41.81681377137387], [-8...\n",
       "Printers Row        [[[-87.62760697485339, 41.87437097785366], [-8...\n",
       "United Center       [[[-87.66706868914592, 41.88885187769542], [-8...\n",
       "Sheffield & DePaul  [[[-87.65833494805524, 41.921661442291786], [-...\n",
       "Humboldt Park       [[[-87.74059567509258, 41.88782316893226], [-8..."
      ]
     },
     "execution_count": 548,
     "metadata": {},
     "output_type": "execute_result"
    }
   ],
   "source": [
    "data = []\n",
    "with open(\"Neighborhoods_2012_polygons.json\", \"r\") as json_data:\n",
    "    data = json.load(json_data)\n",
    "df = {}\n",
    "for item in data[\"features\"]:\n",
    "    if  item[\"type\"] =='Feature':\n",
    "        if 'properties' in item.keys():\n",
    "            nn = item.get(\"properties\").get(\"PRI_NEIGH\")\n",
    "            df[nn] = nn\n",
    "        if 'geometry' in item:\n",
    "            coords = item.get('geometry').get('coordinates')\n",
    "            df[nn] = coords\n",
    "df_n=pd.DataFrame(pd.Series(df))\n",
    "df_n.head()\n",
    "#df_n = pd.DataFrame(pd.split(\"\"))"
   ]
  },
  {
   "cell_type": "code",
   "execution_count": 549,
   "metadata": {},
   "outputs": [
    {
     "data": {
      "text/html": [
       "<div>\n",
       "<style scoped>\n",
       "    .dataframe tbody tr th:only-of-type {\n",
       "        vertical-align: middle;\n",
       "    }\n",
       "\n",
       "    .dataframe tbody tr th {\n",
       "        vertical-align: top;\n",
       "    }\n",
       "\n",
       "    .dataframe thead th {\n",
       "        text-align: right;\n",
       "    }\n",
       "</style>\n",
       "<table border=\"1\" class=\"dataframe\">\n",
       "  <thead>\n",
       "    <tr style=\"text-align: right;\">\n",
       "      <th></th>\n",
       "      <th>Neighborhood</th>\n",
       "      <th>Polygons</th>\n",
       "    </tr>\n",
       "  </thead>\n",
       "  <tbody>\n",
       "    <tr>\n",
       "      <th>0</th>\n",
       "      <td>Grand Boulevard</td>\n",
       "      <td>[[[-87.60670812560363, 41.81681377137387], [-8...</td>\n",
       "    </tr>\n",
       "    <tr>\n",
       "      <th>1</th>\n",
       "      <td>Printers Row</td>\n",
       "      <td>[[[-87.62760697485339, 41.87437097785366], [-8...</td>\n",
       "    </tr>\n",
       "    <tr>\n",
       "      <th>2</th>\n",
       "      <td>United Center</td>\n",
       "      <td>[[[-87.66706868914592, 41.88885187769542], [-8...</td>\n",
       "    </tr>\n",
       "    <tr>\n",
       "      <th>3</th>\n",
       "      <td>Sheffield &amp; DePaul</td>\n",
       "      <td>[[[-87.65833494805524, 41.921661442291786], [-...</td>\n",
       "    </tr>\n",
       "    <tr>\n",
       "      <th>4</th>\n",
       "      <td>Humboldt Park</td>\n",
       "      <td>[[[-87.74059567509258, 41.88782316893226], [-8...</td>\n",
       "    </tr>\n",
       "  </tbody>\n",
       "</table>\n",
       "</div>"
      ],
      "text/plain": [
       "         Neighborhood                                           Polygons\n",
       "0     Grand Boulevard  [[[-87.60670812560363, 41.81681377137387], [-8...\n",
       "1        Printers Row  [[[-87.62760697485339, 41.87437097785366], [-8...\n",
       "2       United Center  [[[-87.66706868914592, 41.88885187769542], [-8...\n",
       "3  Sheffield & DePaul  [[[-87.65833494805524, 41.921661442291786], [-...\n",
       "4       Humboldt Park  [[[-87.74059567509258, 41.88782316893226], [-8..."
      ]
     },
     "execution_count": 549,
     "metadata": {},
     "output_type": "execute_result"
    }
   ],
   "source": [
    "df_new = pd.DataFrame({'Neighborhood': df_n.index.values, 'Polygons': df_n[0].values})\n",
    "df_new.head()"
   ]
  },
  {
   "cell_type": "code",
   "execution_count": 550,
   "metadata": {},
   "outputs": [],
   "source": [
    "df_new['Polygons_tup'] = df_new['Polygons'].apply(lambda x: [tuple(a) for a in x[0]])"
   ]
  },
  {
   "cell_type": "code",
   "execution_count": 551,
   "metadata": {},
   "outputs": [
    {
     "data": {
      "text/html": [
       "<div>\n",
       "<style scoped>\n",
       "    .dataframe tbody tr th:only-of-type {\n",
       "        vertical-align: middle;\n",
       "    }\n",
       "\n",
       "    .dataframe tbody tr th {\n",
       "        vertical-align: top;\n",
       "    }\n",
       "\n",
       "    .dataframe thead th {\n",
       "        text-align: right;\n",
       "    }\n",
       "</style>\n",
       "<table border=\"1\" class=\"dataframe\">\n",
       "  <thead>\n",
       "    <tr style=\"text-align: right;\">\n",
       "      <th></th>\n",
       "      <th>Neighborhood</th>\n",
       "      <th>Polygons</th>\n",
       "      <th>Polygons_tup</th>\n",
       "    </tr>\n",
       "  </thead>\n",
       "  <tbody>\n",
       "    <tr>\n",
       "      <th>0</th>\n",
       "      <td>Grand Boulevard</td>\n",
       "      <td>[[[-87.60670812560363, 41.81681377137387], [-8...</td>\n",
       "      <td>[(-87.60670812560363, 41.81681377137387), (-87...</td>\n",
       "    </tr>\n",
       "    <tr>\n",
       "      <th>1</th>\n",
       "      <td>Printers Row</td>\n",
       "      <td>[[[-87.62760697485339, 41.87437097785366], [-8...</td>\n",
       "      <td>[(-87.62760697485339, 41.87437097785366), (-87...</td>\n",
       "    </tr>\n",
       "    <tr>\n",
       "      <th>2</th>\n",
       "      <td>United Center</td>\n",
       "      <td>[[[-87.66706868914592, 41.88885187769542], [-8...</td>\n",
       "      <td>[(-87.66706868914592, 41.88885187769542), (-87...</td>\n",
       "    </tr>\n",
       "    <tr>\n",
       "      <th>3</th>\n",
       "      <td>Sheffield &amp; DePaul</td>\n",
       "      <td>[[[-87.65833494805524, 41.921661442291786], [-...</td>\n",
       "      <td>[(-87.65833494805524, 41.921661442291786), (-8...</td>\n",
       "    </tr>\n",
       "    <tr>\n",
       "      <th>4</th>\n",
       "      <td>Humboldt Park</td>\n",
       "      <td>[[[-87.74059567509258, 41.88782316893226], [-8...</td>\n",
       "      <td>[(-87.74059567509258, 41.88782316893226), (-87...</td>\n",
       "    </tr>\n",
       "  </tbody>\n",
       "</table>\n",
       "</div>"
      ],
      "text/plain": [
       "         Neighborhood                                           Polygons  \\\n",
       "0     Grand Boulevard  [[[-87.60670812560363, 41.81681377137387], [-8...   \n",
       "1        Printers Row  [[[-87.62760697485339, 41.87437097785366], [-8...   \n",
       "2       United Center  [[[-87.66706868914592, 41.88885187769542], [-8...   \n",
       "3  Sheffield & DePaul  [[[-87.65833494805524, 41.921661442291786], [-...   \n",
       "4       Humboldt Park  [[[-87.74059567509258, 41.88782316893226], [-8...   \n",
       "\n",
       "                                        Polygons_tup  \n",
       "0  [(-87.60670812560363, 41.81681377137387), (-87...  \n",
       "1  [(-87.62760697485339, 41.87437097785366), (-87...  \n",
       "2  [(-87.66706868914592, 41.88885187769542), (-87...  \n",
       "3  [(-87.65833494805524, 41.921661442291786), (-8...  \n",
       "4  [(-87.74059567509258, 41.88782316893226), (-87...  "
      ]
     },
     "execution_count": 551,
     "metadata": {},
     "output_type": "execute_result"
    }
   ],
   "source": [
    "df_new.head()"
   ]
  },
  {
   "cell_type": "code",
   "execution_count": 552,
   "metadata": {},
   "outputs": [],
   "source": [
    "from shapely.geometry import Point\n",
    "from shapely.geometry.polygon import Polygon"
   ]
  },
  {
   "cell_type": "code",
   "execution_count": 553,
   "metadata": {},
   "outputs": [],
   "source": [
    "\n",
    "def neighbor_finder(lat, long):\n",
    "    for index,row in df_new.iterrows():\n",
    "        poly = row['Polygons_tup']\n",
    "        if len(poly) >= 3:\n",
    "            polygon = Polygon(poly)\n",
    "            point = Point(lat, long)\n",
    "            if polygon.contains(point):\n",
    "                global neighborhood\n",
    "                neighborhood = row['Neighborhood']\n",
    "    return neighborhood"
   ]
  },
  {
   "cell_type": "code",
   "execution_count": 554,
   "metadata": {},
   "outputs": [
    {
     "data": {
      "text/plain": [
       "'Little Village'"
      ]
     },
     "execution_count": 554,
     "metadata": {},
     "output_type": "execute_result"
    }
   ],
   "source": [
    "long = -87.723960\n",
    "lat = 41.825320\n",
    "neighbor_finder(long, lat)"
   ]
  },
  {
   "cell_type": "code",
   "execution_count": 555,
   "metadata": {},
   "outputs": [
    {
     "ename": "KeyboardInterrupt",
     "evalue": "",
     "output_type": "error",
     "traceback": [
      "\u001b[0;31m---------------------------------------------------------------------------\u001b[0m",
      "\u001b[0;31mKeyboardInterrupt\u001b[0m                         Traceback (most recent call last)",
      "\u001b[0;32m<ipython-input-555-8455711a3a47>\u001b[0m in \u001b[0;36m<module>\u001b[0;34m\u001b[0m\n\u001b[1;32m      3\u001b[0m     \u001b[0mlat\u001b[0m \u001b[0;34m=\u001b[0m \u001b[0mrow\u001b[0m\u001b[0;34m[\u001b[0m\u001b[0;34m'LATITUDE'\u001b[0m\u001b[0;34m]\u001b[0m\u001b[0;34m\u001b[0m\u001b[0;34m\u001b[0m\u001b[0m\n\u001b[1;32m      4\u001b[0m     \u001b[0mlong\u001b[0m \u001b[0;34m=\u001b[0m \u001b[0mrow\u001b[0m\u001b[0;34m[\u001b[0m\u001b[0;34m'LONGITUDE'\u001b[0m\u001b[0;34m]\u001b[0m\u001b[0;34m\u001b[0m\u001b[0;34m\u001b[0m\u001b[0m\n\u001b[0;32m----> 5\u001b[0;31m     \u001b[0mhood\u001b[0m \u001b[0;34m=\u001b[0m \u001b[0mneighbor_finder\u001b[0m\u001b[0;34m(\u001b[0m\u001b[0mlong\u001b[0m\u001b[0;34m,\u001b[0m\u001b[0mlat\u001b[0m\u001b[0;34m)\u001b[0m\u001b[0;34m\u001b[0m\u001b[0;34m\u001b[0m\u001b[0m\n\u001b[0m\u001b[1;32m      6\u001b[0m     \u001b[0;31m#print(hood)\u001b[0m\u001b[0;34m\u001b[0m\u001b[0;34m\u001b[0m\u001b[0;34m\u001b[0m\u001b[0m\n\u001b[1;32m      7\u001b[0m     \u001b[0mnhoods\u001b[0m\u001b[0;34m.\u001b[0m\u001b[0mappend\u001b[0m\u001b[0;34m(\u001b[0m\u001b[0mhood\u001b[0m\u001b[0;34m)\u001b[0m\u001b[0;34m\u001b[0m\u001b[0;34m\u001b[0m\u001b[0m\n",
      "\u001b[0;32m<ipython-input-553-df344902b832>\u001b[0m in \u001b[0;36mneighbor_finder\u001b[0;34m(lat, long)\u001b[0m\n\u001b[1;32m      1\u001b[0m \u001b[0;34m\u001b[0m\u001b[0m\n\u001b[1;32m      2\u001b[0m \u001b[0;32mdef\u001b[0m \u001b[0mneighbor_finder\u001b[0m\u001b[0;34m(\u001b[0m\u001b[0mlat\u001b[0m\u001b[0;34m,\u001b[0m \u001b[0mlong\u001b[0m\u001b[0;34m)\u001b[0m\u001b[0;34m:\u001b[0m\u001b[0;34m\u001b[0m\u001b[0;34m\u001b[0m\u001b[0m\n\u001b[0;32m----> 3\u001b[0;31m     \u001b[0;32mfor\u001b[0m \u001b[0mindex\u001b[0m\u001b[0;34m,\u001b[0m\u001b[0mrow\u001b[0m \u001b[0;32min\u001b[0m \u001b[0mdf_new\u001b[0m\u001b[0;34m.\u001b[0m\u001b[0miterrows\u001b[0m\u001b[0;34m(\u001b[0m\u001b[0;34m)\u001b[0m\u001b[0;34m:\u001b[0m\u001b[0;34m\u001b[0m\u001b[0;34m\u001b[0m\u001b[0m\n\u001b[0m\u001b[1;32m      4\u001b[0m         \u001b[0mpoly\u001b[0m \u001b[0;34m=\u001b[0m \u001b[0mrow\u001b[0m\u001b[0;34m[\u001b[0m\u001b[0;34m'Polygons_tup'\u001b[0m\u001b[0;34m]\u001b[0m\u001b[0;34m\u001b[0m\u001b[0;34m\u001b[0m\u001b[0m\n\u001b[1;32m      5\u001b[0m         \u001b[0;32mif\u001b[0m \u001b[0mlen\u001b[0m\u001b[0;34m(\u001b[0m\u001b[0mpoly\u001b[0m\u001b[0;34m)\u001b[0m \u001b[0;34m>=\u001b[0m \u001b[0;36m3\u001b[0m\u001b[0;34m:\u001b[0m\u001b[0;34m\u001b[0m\u001b[0;34m\u001b[0m\u001b[0m\n",
      "\u001b[0;32m~/anaconda3/lib/python3.6/site-packages/pandas/core/frame.py\u001b[0m in \u001b[0;36miterrows\u001b[0;34m(self)\u001b[0m\n\u001b[1;32m    844\u001b[0m         \u001b[0mklass\u001b[0m \u001b[0;34m=\u001b[0m \u001b[0mself\u001b[0m\u001b[0;34m.\u001b[0m\u001b[0m_constructor_sliced\u001b[0m\u001b[0;34m\u001b[0m\u001b[0;34m\u001b[0m\u001b[0m\n\u001b[1;32m    845\u001b[0m         \u001b[0;32mfor\u001b[0m \u001b[0mk\u001b[0m\u001b[0;34m,\u001b[0m \u001b[0mv\u001b[0m \u001b[0;32min\u001b[0m \u001b[0mzip\u001b[0m\u001b[0;34m(\u001b[0m\u001b[0mself\u001b[0m\u001b[0;34m.\u001b[0m\u001b[0mindex\u001b[0m\u001b[0;34m,\u001b[0m \u001b[0mself\u001b[0m\u001b[0;34m.\u001b[0m\u001b[0mvalues\u001b[0m\u001b[0;34m)\u001b[0m\u001b[0;34m:\u001b[0m\u001b[0;34m\u001b[0m\u001b[0;34m\u001b[0m\u001b[0m\n\u001b[0;32m--> 846\u001b[0;31m             \u001b[0ms\u001b[0m \u001b[0;34m=\u001b[0m \u001b[0mklass\u001b[0m\u001b[0;34m(\u001b[0m\u001b[0mv\u001b[0m\u001b[0;34m,\u001b[0m \u001b[0mindex\u001b[0m\u001b[0;34m=\u001b[0m\u001b[0mcolumns\u001b[0m\u001b[0;34m,\u001b[0m \u001b[0mname\u001b[0m\u001b[0;34m=\u001b[0m\u001b[0mk\u001b[0m\u001b[0;34m)\u001b[0m\u001b[0;34m\u001b[0m\u001b[0;34m\u001b[0m\u001b[0m\n\u001b[0m\u001b[1;32m    847\u001b[0m             \u001b[0;32myield\u001b[0m \u001b[0mk\u001b[0m\u001b[0;34m,\u001b[0m \u001b[0ms\u001b[0m\u001b[0;34m\u001b[0m\u001b[0;34m\u001b[0m\u001b[0m\n\u001b[1;32m    848\u001b[0m \u001b[0;34m\u001b[0m\u001b[0m\n",
      "\u001b[0;32m~/anaconda3/lib/python3.6/site-packages/pandas/core/series.py\u001b[0m in \u001b[0;36m__init__\u001b[0;34m(self, data, index, dtype, name, copy, fastpath)\u001b[0m\n\u001b[1;32m    260\u001b[0m             \u001b[0;32melse\u001b[0m\u001b[0;34m:\u001b[0m\u001b[0;34m\u001b[0m\u001b[0;34m\u001b[0m\u001b[0m\n\u001b[1;32m    261\u001b[0m                 data = sanitize_array(data, index, dtype, copy,\n\u001b[0;32m--> 262\u001b[0;31m                                       raise_cast_failure=True)\n\u001b[0m\u001b[1;32m    263\u001b[0m \u001b[0;34m\u001b[0m\u001b[0m\n\u001b[1;32m    264\u001b[0m                 \u001b[0mdata\u001b[0m \u001b[0;34m=\u001b[0m \u001b[0mSingleBlockManager\u001b[0m\u001b[0;34m(\u001b[0m\u001b[0mdata\u001b[0m\u001b[0;34m,\u001b[0m \u001b[0mindex\u001b[0m\u001b[0;34m,\u001b[0m \u001b[0mfastpath\u001b[0m\u001b[0;34m=\u001b[0m\u001b[0;32mTrue\u001b[0m\u001b[0;34m)\u001b[0m\u001b[0;34m\u001b[0m\u001b[0;34m\u001b[0m\u001b[0m\n",
      "\u001b[0;32m~/anaconda3/lib/python3.6/site-packages/pandas/core/internals/construction.py\u001b[0m in \u001b[0;36msanitize_array\u001b[0;34m(data, index, dtype, copy, raise_cast_failure)\u001b[0m\n\u001b[1;32m    580\u001b[0m \u001b[0;34m\u001b[0m\u001b[0m\n\u001b[1;32m    581\u001b[0m             \u001b[0;31m# we will try to copy be-definition here\u001b[0m\u001b[0;34m\u001b[0m\u001b[0;34m\u001b[0m\u001b[0;34m\u001b[0m\u001b[0m\n\u001b[0;32m--> 582\u001b[0;31m             \u001b[0msubarr\u001b[0m \u001b[0;34m=\u001b[0m \u001b[0m_try_cast\u001b[0m\u001b[0;34m(\u001b[0m\u001b[0mdata\u001b[0m\u001b[0;34m,\u001b[0m \u001b[0;32mTrue\u001b[0m\u001b[0;34m,\u001b[0m \u001b[0mdtype\u001b[0m\u001b[0;34m,\u001b[0m \u001b[0mcopy\u001b[0m\u001b[0;34m,\u001b[0m \u001b[0mraise_cast_failure\u001b[0m\u001b[0;34m)\u001b[0m\u001b[0;34m\u001b[0m\u001b[0;34m\u001b[0m\u001b[0m\n\u001b[0m\u001b[1;32m    583\u001b[0m \u001b[0;34m\u001b[0m\u001b[0m\n\u001b[1;32m    584\u001b[0m     \u001b[0;32melif\u001b[0m \u001b[0misinstance\u001b[0m\u001b[0;34m(\u001b[0m\u001b[0mdata\u001b[0m\u001b[0;34m,\u001b[0m \u001b[0mExtensionArray\u001b[0m\u001b[0;34m)\u001b[0m\u001b[0;34m:\u001b[0m\u001b[0;34m\u001b[0m\u001b[0;34m\u001b[0m\u001b[0m\n",
      "\u001b[0;32m~/anaconda3/lib/python3.6/site-packages/pandas/core/internals/construction.py\u001b[0m in \u001b[0;36m_try_cast\u001b[0;34m(arr, take_fast_path, dtype, copy, raise_cast_failure)\u001b[0m\n\u001b[1;32m    695\u001b[0m             \u001b[0msubarr\u001b[0m \u001b[0;34m=\u001b[0m \u001b[0mmaybe_cast_to_integer_array\u001b[0m\u001b[0;34m(\u001b[0m\u001b[0marr\u001b[0m\u001b[0;34m,\u001b[0m \u001b[0mdtype\u001b[0m\u001b[0;34m)\u001b[0m\u001b[0;34m\u001b[0m\u001b[0;34m\u001b[0m\u001b[0m\n\u001b[1;32m    696\u001b[0m \u001b[0;34m\u001b[0m\u001b[0m\n\u001b[0;32m--> 697\u001b[0;31m         \u001b[0msubarr\u001b[0m \u001b[0;34m=\u001b[0m \u001b[0mmaybe_cast_to_datetime\u001b[0m\u001b[0;34m(\u001b[0m\u001b[0marr\u001b[0m\u001b[0;34m,\u001b[0m \u001b[0mdtype\u001b[0m\u001b[0;34m)\u001b[0m\u001b[0;34m\u001b[0m\u001b[0;34m\u001b[0m\u001b[0m\n\u001b[0m\u001b[1;32m    698\u001b[0m         \u001b[0;31m# Take care in creating object arrays (but iterators are not\u001b[0m\u001b[0;34m\u001b[0m\u001b[0;34m\u001b[0m\u001b[0;34m\u001b[0m\u001b[0m\n\u001b[1;32m    699\u001b[0m         \u001b[0;31m# supported):\u001b[0m\u001b[0;34m\u001b[0m\u001b[0;34m\u001b[0m\u001b[0;34m\u001b[0m\u001b[0m\n",
      "\u001b[0;32m~/anaconda3/lib/python3.6/site-packages/pandas/core/dtypes/cast.py\u001b[0m in \u001b[0;36mmaybe_cast_to_datetime\u001b[0;34m(value, dtype, errors)\u001b[0m\n\u001b[1;32m   1065\u001b[0m         elif not (is_array and not (issubclass(value.dtype.type, np.integer) or\n\u001b[1;32m   1066\u001b[0m                                     value.dtype == np.object_)):\n\u001b[0;32m-> 1067\u001b[0;31m             \u001b[0mvalue\u001b[0m \u001b[0;34m=\u001b[0m \u001b[0mmaybe_infer_to_datetimelike\u001b[0m\u001b[0;34m(\u001b[0m\u001b[0mvalue\u001b[0m\u001b[0;34m)\u001b[0m\u001b[0;34m\u001b[0m\u001b[0;34m\u001b[0m\u001b[0m\n\u001b[0m\u001b[1;32m   1068\u001b[0m \u001b[0;34m\u001b[0m\u001b[0m\n\u001b[1;32m   1069\u001b[0m     \u001b[0;32mreturn\u001b[0m \u001b[0mvalue\u001b[0m\u001b[0;34m\u001b[0m\u001b[0;34m\u001b[0m\u001b[0m\n",
      "\u001b[0;32m~/anaconda3/lib/python3.6/site-packages/pandas/core/dtypes/cast.py\u001b[0m in \u001b[0;36mmaybe_infer_to_datetimelike\u001b[0;34m(value, convert_dates)\u001b[0m\n\u001b[1;32m    877\u001b[0m \u001b[0;34m\u001b[0m\u001b[0m\n\u001b[1;32m    878\u001b[0m     \u001b[0;31m# we only care about object dtypes\u001b[0m\u001b[0;34m\u001b[0m\u001b[0;34m\u001b[0m\u001b[0;34m\u001b[0m\u001b[0m\n\u001b[0;32m--> 879\u001b[0;31m     \u001b[0;32mif\u001b[0m \u001b[0;32mnot\u001b[0m \u001b[0mis_object_dtype\u001b[0m\u001b[0;34m(\u001b[0m\u001b[0mv\u001b[0m\u001b[0;34m)\u001b[0m\u001b[0;34m:\u001b[0m\u001b[0;34m\u001b[0m\u001b[0;34m\u001b[0m\u001b[0m\n\u001b[0m\u001b[1;32m    880\u001b[0m         \u001b[0;32mreturn\u001b[0m \u001b[0mvalue\u001b[0m\u001b[0;34m\u001b[0m\u001b[0;34m\u001b[0m\u001b[0m\n\u001b[1;32m    881\u001b[0m \u001b[0;34m\u001b[0m\u001b[0m\n",
      "\u001b[0;32m~/anaconda3/lib/python3.6/site-packages/pandas/core/dtypes/common.py\u001b[0m in \u001b[0;36mis_object_dtype\u001b[0;34m(arr_or_dtype)\u001b[0m\n\u001b[1;32m    155\u001b[0m     \u001b[0;32mFalse\u001b[0m\u001b[0;34m\u001b[0m\u001b[0;34m\u001b[0m\u001b[0m\n\u001b[1;32m    156\u001b[0m     \"\"\"\n\u001b[0;32m--> 157\u001b[0;31m     \u001b[0;32mreturn\u001b[0m \u001b[0m_is_dtype_type\u001b[0m\u001b[0;34m(\u001b[0m\u001b[0marr_or_dtype\u001b[0m\u001b[0;34m,\u001b[0m \u001b[0mclasses\u001b[0m\u001b[0;34m(\u001b[0m\u001b[0mnp\u001b[0m\u001b[0;34m.\u001b[0m\u001b[0mobject_\u001b[0m\u001b[0;34m)\u001b[0m\u001b[0;34m)\u001b[0m\u001b[0;34m\u001b[0m\u001b[0;34m\u001b[0m\u001b[0m\n\u001b[0m\u001b[1;32m    158\u001b[0m \u001b[0;34m\u001b[0m\u001b[0m\n\u001b[1;32m    159\u001b[0m \u001b[0;34m\u001b[0m\u001b[0m\n",
      "\u001b[0;32m~/anaconda3/lib/python3.6/site-packages/pandas/core/dtypes/common.py\u001b[0m in \u001b[0;36mclasses\u001b[0;34m(*klasses)\u001b[0m\n\u001b[1;32m    117\u001b[0m \u001b[0;32mdef\u001b[0m \u001b[0mclasses\u001b[0m\u001b[0;34m(\u001b[0m\u001b[0;34m*\u001b[0m\u001b[0mklasses\u001b[0m\u001b[0;34m)\u001b[0m\u001b[0;34m:\u001b[0m\u001b[0;34m\u001b[0m\u001b[0;34m\u001b[0m\u001b[0m\n\u001b[1;32m    118\u001b[0m     \u001b[0;34m\"\"\" evaluate if the tipo is a subclass of the klasses \"\"\"\u001b[0m\u001b[0;34m\u001b[0m\u001b[0;34m\u001b[0m\u001b[0m\n\u001b[0;32m--> 119\u001b[0;31m     \u001b[0;32mreturn\u001b[0m \u001b[0;32mlambda\u001b[0m \u001b[0mtipo\u001b[0m\u001b[0;34m:\u001b[0m \u001b[0missubclass\u001b[0m\u001b[0;34m(\u001b[0m\u001b[0mtipo\u001b[0m\u001b[0;34m,\u001b[0m \u001b[0mklasses\u001b[0m\u001b[0;34m)\u001b[0m\u001b[0;34m\u001b[0m\u001b[0;34m\u001b[0m\u001b[0m\n\u001b[0m\u001b[1;32m    120\u001b[0m \u001b[0;34m\u001b[0m\u001b[0m\n\u001b[1;32m    121\u001b[0m \u001b[0;34m\u001b[0m\u001b[0m\n",
      "\u001b[0;31mKeyboardInterrupt\u001b[0m: "
     ]
    }
   ],
   "source": [
    "nhoods = []\n",
    "for index, row in businesses.iterrows():\n",
    "    lat = row['LATITUDE']\n",
    "    long = row['LONGITUDE']\n",
    "    hood = neighbor_finder(long,lat)\n",
    "    #print(hood)\n",
    "    nhoods.append(hood)\n",
    "    \n",
    "    \n",
    "businesses['Neighborhood'] = nhoods    "
   ]
  },
  {
   "cell_type": "code",
   "execution_count": 556,
   "metadata": {},
   "outputs": [
    {
     "data": {
      "text/plain": [
       "575497"
      ]
     },
     "execution_count": 556,
     "metadata": {},
     "output_type": "execute_result"
    }
   ],
   "source": [
    "len(nhoods)"
   ]
  },
  {
   "cell_type": "code",
   "execution_count": null,
   "metadata": {},
   "outputs": [],
   "source": [
    "businesses.columns"
   ]
  },
  {
   "cell_type": "code",
   "execution_count": null,
   "metadata": {},
   "outputs": [],
   "source": [
    "businesses['LICENSE TERM START DATE'] = pd.to_datetime(businesses['LICENSE TERM START DATE'], format='%m/%d/%Y')\n",
    "businesses['LICENSE TERM EXPIRATION DATE'] = pd.to_datetime(businesses['LICENSE TERM EXPIRATION DATE'], format='%m/%d/%Y')\n",
    "businesses['APPLICATION CREATED DATE'] = pd.to_datetime(businesses['APPLICATION CREATED DATE'], format='%m/%d/%Y')\n",
    "businesses['APPLICATION REQUIREMENTS COMPLETE'] = pd.to_datetime(businesses['APPLICATION REQUIREMENTS COMPLETE'], format='%m/%d/%Y')\n",
    "businesses['PAYMENT DATE'] = pd.to_datetime(businesses['PAYMENT DATE'], format='%m/%d/%Y')\n",
    "businesses['LICENSE APPROVED FOR ISSUANCE'] = pd.to_datetime(businesses['LICENSE APPROVED FOR ISSUANCE'], format='%m/%d/%Y')\n",
    "businesses['DATE ISSUED'] = pd.to_datetime(businesses['DATE ISSUED'], format='%m/%d/%Y')\n",
    "businesses['LICENSE STATUS CHANGE DATE'] = pd.to_datetime(businesses['LICENSE STATUS CHANGE DATE'], format='%m/%d/%Y')"
   ]
  },
  {
   "cell_type": "code",
   "execution_count": null,
   "metadata": {},
   "outputs": [],
   "source": [
    "businesses['BUSINESS ACTIVITY'].head()"
   ]
  },
  {
   "cell_type": "code",
   "execution_count": null,
   "metadata": {},
   "outputs": [],
   "source": [
    "businesses['BUSINESS ACTIVITY'].value_counts()"
   ]
  },
  {
   "cell_type": "code",
   "execution_count": null,
   "metadata": {},
   "outputs": [],
   "source": [
    "businesses['BUSINESS ACTIVITY'].isna().sum()"
   ]
  },
  {
   "cell_type": "code",
   "execution_count": null,
   "metadata": {},
   "outputs": [],
   "source": [
    "(~businesses['BUSINESS ACTIVITY'].isna()).sum()"
   ]
  },
  {
   "cell_type": "code",
   "execution_count": null,
   "metadata": {},
   "outputs": [],
   "source": [
    "#Get rid of all nan values in the business column\n",
    "businesses = businesses.dropna()"
   ]
  },
  {
   "cell_type": "code",
   "execution_count": null,
   "metadata": {},
   "outputs": [],
   "source": []
  }
 ],
 "metadata": {
  "kernelspec": {
   "display_name": "Python 3",
   "language": "python",
   "name": "python3"
  },
  "language_info": {
   "codemirror_mode": {
    "name": "ipython",
    "version": 3
   },
   "file_extension": ".py",
   "mimetype": "text/x-python",
   "name": "python",
   "nbconvert_exporter": "python",
   "pygments_lexer": "ipython3",
   "version": "3.6.8"
  }
 },
 "nbformat": 4,
 "nbformat_minor": 2
}
